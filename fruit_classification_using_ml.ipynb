{
 "cells": [
  {
   "cell_type": "code",
   "execution_count": null,
   "metadata": {
    "_cell_guid": "b1076dfc-b9ad-4769-8c92-a6c4dae69d19",
    "_uuid": "8f2839f25d086af736a60e9eeb907d3b93b6e0e5"
   },
   "outputs": [],
   "source": [
    "import numpy as np\n",
    "import cv2\n",
    "import pandas as pd\n",
    "%matplotlib inline\n",
    "import matplotlib.pyplot as plt\n",
    "from matplotlib.offsetbox import OffsetImage, AnnotationBbox\n",
    "import glob\n",
    "import os\n",
    "from sklearn.decomposition import PCA\n",
    "from sklearn.manifold import TSNE\n",
    "from sklearn.preprocessing import StandardScaler\n",
    "from sklearn.ensemble import RandomForestClassifier\n",
    "from sklearn.model_selection import train_test_split\n",
    "from sklearn.metrics import accuracy_score\n",
    "from sklearn import svm\n",
    "from sklearn.cluster import KMeans\n",
    "from sklearn.neighbors import KNeighborsClassifier\n",
    "from sklearn.svm import SVC\n",
    "from sklearn import metrics\n",
    "from sklearn.ensemble import VotingClassifier\n",
    "from sklearn.neural_network import MLPClassifier\n",
    "from sklearn.metrics import plot_confusion_matrix\n",
    "from sklearn.metrics import classification_report,confusion_matrix"
   ]
  },
  {
   "cell_type": "raw",
   "metadata": {},
   "source": [
    "Classes for Fruits (Without Vegetables): Total of 114 classes "
   ]
  },
  {
   "cell_type": "code",
   "execution_count": null,
   "metadata": {
    "_cell_guid": "79c7e3d0-c299-4dcb-8224-4455121ee9b0",
    "_uuid": "d629ff2d2480ee46fbb7e2d37f6b5fab8052498a"
   },
   "outputs": [],
   "source": [
    "Fruits = ['Apple Crimson Snow', 'Apple Golden 1', 'Apple Golden 2', 'Apple Golden 3','Apple Red 1', 'Apple Red 2', 'Apple Red 3', \n",
    "          'Apple Granny Smith', 'Apple Pink Lady', 'Apple Red Delicious', \n",
    "          'Apricot', 'Avocado', 'Avocado ripe', 'Banana', \n",
    "          'Banana Red', 'Banana Lady Finger', 'Beetroot', \n",
    "          'Blueberry', 'Cactus fruit', 'Cantaloupe 1', 'Cantaloupe 2',\n",
    "          'Carambula', 'Cauliflower', 'Cherry 1', 'Cherry 2', \n",
    "          'Cherry Rainier', 'Cherry Wax Black', 'Cherry Wax Red', 'Cherry Wax Yellow',\n",
    "          'Chestnut', 'Clementine', 'Cocos', 'Dates', 'Eggplant', \n",
    "          'Ginger Root', 'Granadilla', 'Grape Blue', 'Grape Pink', 'Grape White',\n",
    "          'Grapefruit Pink', 'Grapefruit White', 'Guava', 'Hazelnut', \n",
    "          'Huckleberry', 'Kiwi', 'Kaki', 'Kohlrabi', \n",
    "          'Lemon', 'Lemon Meyer', 'Limes', 'Lychee', 'Mandarine', \n",
    "          'Mango', 'Mango Red', 'Mangostan', 'Maracuja', 'Kumquats',\n",
    "          'Melon Piel de Sapo', 'Mulberry', 'Nectarine', 'Nectarine Flat',\n",
    "          'Nut Forest', 'Nut Pecan', 'Onion Red', 'Onion White', 'Onion Red Peeled',\n",
    "          'Orange', 'Papaya', 'Passion Fruit', 'Peach', 'Peach 2', 'Peach Flat',\n",
    "          'Pepino', 'Pear', 'Pear Abate','Pear Forelle', 'Pear Kaiser', 'Pear Monster', 'Pear Red', 'Pear Williams',\n",
    "          'Pepper Red', 'Pepper Green', 'Pepper Yellow', \n",
    "          'Physalis', 'Physalis with Husk', 'Pineapple', 'Pineapple Mini', \n",
    "          'Pitahaya Red', 'Plum', 'Plum 2', 'Plum 3', \n",
    "          'Pomegranate', 'Pomelo Sweetie', 'Potato Red', 'Potato Red Washed', 'Potato Sweet', 'Potato White', \n",
    "          'Quince', 'Rambutan', 'Raspberry', 'Redcurrant', 'Salak', \n",
    "          'Strawberry', 'Strawberry Wedge', 'Tamarillo', 'Tangelo', \n",
    "          'Tomato 1', 'Tomato 2', 'Tomato 3', 'Tomato 4', 'Tomato Cherry Red', 'Tomato Maroon', 'Tomato Yellow', 'Walnut', \n",
    "           ]"
   ]
  },
  {
   "cell_type": "code",
   "execution_count": null,
   "metadata": {},
   "outputs": [],
   "source": [
    "len(Fruits)"
   ]
  },
  {
   "cell_type": "code",
   "execution_count": null,
   "metadata": {},
   "outputs": [],
   "source": [
    "fruit_images = []\n",
    "labels = [] \n",
    "\n",
    "\n",
    "#Get Training Data\n",
    "for dirname, _, filenames in os.walk('/kaggle/input/fruits/fruits-360_dataset/fruits-360/Training/'):\n",
    "    fruit_label = dirname.split(\"/\")[-1]\n",
    "    #if current fruit is in the 'Fruits' array defined above\n",
    "    #then get all the data\n",
    "    if fruit_label in Fruits:\n",
    "        for filename in filenames: \n",
    "            path = os.path.join(dirname, filename) \n",
    "            image = cv2.imread(path, cv2.IMREAD_COLOR)\n",
    "            image = cv2.resize(image, (45, 45)) \n",
    "            image = cv2.cvtColor(image, cv2.COLOR_RGB2BGR)\n",
    "            fruit_images.append(image) \n",
    "            labels.append(fruit_label)\n",
    "        "
   ]
  },
  {
   "cell_type": "code",
   "execution_count": null,
   "metadata": {},
   "outputs": [],
   "source": [
    "fruit_images = np.array(fruit_images)\n",
    "labels = np.array(labels)"
   ]
  },
  {
   "cell_type": "code",
   "execution_count": null,
   "metadata": {},
   "outputs": [],
   "source": [
    "ltoi = {v:i for i,v in enumerate(np.unique(labels))}\n",
    "id_to_label_dict = {v: k for k, v in ltoi.items()}"
   ]
  },
  {
   "cell_type": "code",
   "execution_count": null,
   "metadata": {},
   "outputs": [],
   "source": [
    "id_to_label_dict"
   ]
  },
  {
   "cell_type": "code",
   "execution_count": null,
   "metadata": {},
   "outputs": [],
   "source": [
    "label_ids = np.array([ltoi[x] for x in labels])\n",
    "  \n"
   ]
  },
  {
   "cell_type": "markdown",
   "metadata": {},
   "source": [
    "Scale Data Images"
   ]
  },
  {
   "cell_type": "code",
   "execution_count": null,
   "metadata": {},
   "outputs": [],
   "source": [
    "scaler = StandardScaler()\n"
   ]
  },
  {
   "cell_type": "code",
   "execution_count": null,
   "metadata": {},
   "outputs": [],
   "source": [
    "images_scaled = scaler.fit_transform([i.flatten() for i in fruit_images])\n"
   ]
  },
  {
   "cell_type": "markdown",
   "metadata": {},
   "source": [
    "Data in 50D"
   ]
  },
  {
   "cell_type": "code",
   "execution_count": null,
   "metadata": {},
   "outputs": [],
   "source": [
    "pca = PCA(n_components=50)\n",
    "pca_result = pca.fit_transform(images_scaled)"
   ]
  },
  {
   "cell_type": "code",
   "execution_count": null,
   "metadata": {},
   "outputs": [],
   "source": [
    "X_train, X_test, y_train, y_test = train_test_split(pca_result, label_ids, test_size=0.25, random_state=42)"
   ]
  },
  {
   "cell_type": "markdown",
   "metadata": {},
   "source": [
    "Get Validation Data"
   ]
  },
  {
   "cell_type": "code",
   "execution_count": null,
   "metadata": {},
   "outputs": [],
   "source": [
    "validation_fruit_images = []\n",
    "validation_labels = [] \n",
    "\n",
    "for dirname, _, filenames in os.walk('/kaggle/input/fruits/fruits-360_dataset/fruits-360/Test/'):\n",
    "    fruit_label = dirname.split(\"/\")[-1]\n",
    "    if fruit_label in Fruits:\n",
    "        for filename in filenames: \n",
    "            image_path = os.path.join(dirname, filename) \n",
    "            image = cv2.imread(image_path, cv2.IMREAD_COLOR)\n",
    "\n",
    "            image = cv2.resize(image, (45, 45))\n",
    "            image = cv2.cvtColor(image, cv2.COLOR_RGB2BGR)\n",
    "\n",
    "            validation_fruit_images.append(image)\n",
    "            validation_labels.append(fruit_label)\n",
    "\n",
    "validation_fruit_images = np.array(validation_fruit_images)\n",
    "validation_labels = np.array(validation_labels)"
   ]
  },
  {
   "cell_type": "code",
   "execution_count": null,
   "metadata": {},
   "outputs": [],
   "source": [
    "len(validation_fruit_images)"
   ]
  },
  {
   "cell_type": "code",
   "execution_count": null,
   "metadata": {},
   "outputs": [],
   "source": [
    "validation_label_ids = np.array([ltoi[x] for x in validation_labels])\n"
   ]
  },
  {
   "cell_type": "code",
   "execution_count": null,
   "metadata": {},
   "outputs": [],
   "source": [
    "validation_images_scaled = scaler.transform([i.flatten() for i in validation_fruit_images])"
   ]
  },
  {
   "cell_type": "code",
   "execution_count": null,
   "metadata": {},
   "outputs": [],
   "source": [
    "validation_pca_result = pca.transform(validation_images_scaled)"
   ]
  },
  {
   "cell_type": "code",
   "execution_count": null,
   "metadata": {},
   "outputs": [],
   "source": [
    "#debug\n",
    "print(len(X_train), len(y_train), len(X_test), len(y_test) )\n",
    "print(type(X_train), type(y_train), type(X_test), type(y_test) )\n",
    "print(X_train.shape, y_train.shape, X_test.shape, y_test.shape )"
   ]
  },
  {
   "cell_type": "markdown",
   "metadata": {},
   "source": [
    "# K-Nearest Neighbours\n",
    "Evaluated for different k values"
   ]
  },
  {
   "cell_type": "code",
   "execution_count": null,
   "metadata": {},
   "outputs": [],
   "source": [
    "train_accuracy = dict()\n",
    "test_accuracy = dict()\n",
    "k_values = []\n",
    "for k in range(1, len(Fruits), 10):\n",
    "    k_values.append(k)\n",
    "\n",
    "print('begin training')\n",
    "for k in k_values:\n",
    "    #Setup a knn classifier with k neighbors\n",
    "    knn = KNeighborsClassifier(n_neighbors=k)\n",
    "    knn.fit\n",
    "       \n",
    "    #Fit the model\n",
    "    knn.fit(X_train,y_train) \n",
    " \n",
    "   \n",
    "    \n",
    "    #Compute accuracy on the training set\n",
    "    #train_accuracy[k] = knn.score(X_train, y_train)\n",
    "    test_predictions = knn.predict(X_test)\n",
    "    precision = accuracy_score(test_predictions, y_test) * 100\n",
    "    train_accuracy[k]=precision\n",
    "    #Compute accuracy on the test set\n",
    "    \n",
    "  \n",
    "    test_predictions = knn.predict(validation_pca_result)\n",
    "    precision = accuracy_score(test_predictions, validation_label_ids) * 100\n",
    "    test_accuracy[k] = precision\n",
    "    \n",
    "    print(k, train_accuracy[k], test_accuracy[k])\n",
    "print('end knn')\n",
    "\n",
    "\n"
   ]
  },
  {
   "cell_type": "code",
   "execution_count": null,
   "metadata": {},
   "outputs": [],
   "source": []
  },
  {
   "cell_type": "code",
   "execution_count": null,
   "metadata": {},
   "outputs": [],
   "source": [
    "#OUTPUT\n",
    "# begin training\n",
    "# 1 1.0 0.9997909116253136\n",
    "# 11 0.9958644083548245 0.9939364371340953\n",
    "# 21 0.9843405125345601 0.9784638974073041\n",
    "# 31 0.96970330614995 0.9651519375522721\n",
    "# 41 0.9565995213865849 0.9516308893225537\n",
    "# 51 0.942891661439093 0.9372037914691943\n",
    "# 61 0.9284403243419066 0.9227766936158349\n",
    "# 71 0.9156850444924607 0.9102313911346529\n",
    "# 81 0.902860063660231 0.8968497351547254\n",
    "# 91 0.8908714946214075 0.8852801784220797\n",
    "# 101 0.8797425710369183 0.872177306941734\n",
    "# 111 0.8697288631769708 0.8616531920825202\n",
    "# end training"
   ]
  },
  {
   "cell_type": "code",
   "execution_count": null,
   "metadata": {},
   "outputs": [],
   "source": [
    "#Generate plot\n",
    "plt.title('k-NN Varying number of neighbors')\n",
    "plt.plot(k_values, test_accuracy, label='Testing Accuracy')\n",
    "plt.plot(k_values, train_accuracy, label='Training accuracy')\n",
    "plt.legend()\n",
    "plt.xlabel('Number of neighbors')\n",
    "plt.ylabel('Accuracy')\n",
    "plt.show()"
   ]
  },
  {
   "cell_type": "code",
   "execution_count": null,
   "metadata": {},
   "outputs": [],
   "source": []
  },
  {
   "cell_type": "code",
   "execution_count": null,
   "metadata": {},
   "outputs": [],
   "source": [
    "\n",
    "# knn = KNeighborsClassifier(n_neighbors=1)\n",
    "# knn.fit\n",
    "# knn.fit(X_train,y_train)    \n",
    "\n",
    "# test_predictions = knn.predict(X_test)\n",
    "# #print(V1.predict(X_test))\n",
    "# precision = accuracy_score(test_predictions, y_test) * 100\n",
    "# print(\"Accuracy with knn: {0:.6f}\".format(precision))\n",
    "# test_predictions = knn.predict(validation_pca_result)\n",
    "# precision = accuracy_score(test_predictions, validation_label_ids) * 100\n",
    "# print(\"Validation Accuracy with knn: {0:.6f}\".format(precision))\n",
    "#print(confusion_matrix(y_test,predict_test))"
   ]
  },
  {
   "cell_type": "markdown",
   "metadata": {},
   "source": [
    "# SVM"
   ]
  },
  {
   "cell_type": "code",
   "execution_count": null,
   "metadata": {},
   "outputs": [],
   "source": [
    "\n",
    "#svc=SVC() #Default hyperparameters\n",
    "#svc.fit(X_train,y_train)\n",
    "#y_pred=svc.predict(X_test)\n",
    "#print('Default SVM | Accuracy:', metrics.accuracy_score(y_test,y_pred))\n",
    "\n",
    "#svc = SVC(kernel = 'linear')\n",
    "#svc.fit(X_train,y_train)\n",
    "#y_pred=svc.predict(X_test)\n",
    "#acc = metrics.accuracy_score(y_test, y_pred)\n",
    "#print(acc)\n",
    "\n",
    "#svc = SVC(kernel = 'rbf')\n",
    "#svc.fit(X_train,y_train)\n",
    "#y_pred=svc.predict(X_test)\n",
    "#acc = metrics.accuracy_score(y_test, y_pred)\n",
    "#print(acc)\n",
    "\n",
    "#svc = SVC(kernel = 'poly')\n",
    "#svc.fit(X_train,y_train)\n",
    "#y_pred=svc.predict(X_test)\n",
    "#acc = metrics.accuracy_score(y_test, y_pred)\n",
    "#print(acc)"
   ]
  },
  {
   "cell_type": "markdown",
   "metadata": {},
   "source": [
    "svc = SVC(kernel = 'poly',probability=True)\n",
    "svc.fit(X_train,y_train)\n",
    "test_predictions = knn.predict(X_test)\n",
    "#print(V1.predict(X_test))\n",
    "precision = accuracy_score(test_predictions, y_test) * 100\n",
    "print(\"Accuracy with knn: {0:.6f}\".format(precision))\n",
    "test_predictions = knn.predict(validation_pca_result)\n",
    "precision = accuracy_score(test_predictions, validation_label_ids) * 100\n",
    "print(\"Validation Accuracy with knn: {0:.6f}\".format(precision))"
   ]
  },
  {
   "cell_type": "code",
   "execution_count": null,
   "metadata": {},
   "outputs": [],
   "source": [
    "svc = SVC(kernel = 'linear',probability=True)\n",
    "svc.fit(X_train,y_train)\n",
    "test_predictions = svc.predict(X_test)\n",
    "#print(V1.predict(X_test))\n",
    "precision = accuracy_score(test_predictions, y_test) * 100\n",
    "print(\"Accuracy with linear svc: {0:.6f}\".format(precision))\n",
    "test_predictions = svc.predict(validation_pca_result)\n",
    "precision = accuracy_score(test_predictions, validation_label_ids) * 100\n",
    "print(\"Validation Accuracy with linear svc: {0:.6f}\".format(precision))"
   ]
  },
  {
   "cell_type": "code",
   "execution_count": null,
   "metadata": {},
   "outputs": [],
   "source": [
    "svc = SVC(kernel = 'poly',probability=True)\n",
    "svc.fit(X_train,y_train)\n",
    "test_predictions = svc.predict(X_test)\n",
    "#print(V1.predict(X_test))\n",
    "precision = accuracy_score(test_predictions, y_test) * 100\n",
    "print(\"Accuracy with polynomial svc: {0:.6f}\".format(precision))\n",
    "test_predictions = svc.predict(validation_pca_result)\n",
    "precision = accuracy_score(test_predictions, validation_label_ids) * 100\n",
    "print(\"Validation Accuracy with polynomial svc: {0:.6f}\".format(precision))"
   ]
  },
  {
   "cell_type": "code",
   "execution_count": null,
   "metadata": {},
   "outputs": [],
   "source": [
    "svc = SVC(kernel = 'rbf',probability=True)\n",
    "svc.fit(X_train,y_train)\n",
    "test_predictions = svc.predict(X_test)\n",
    "#print(V1.predict(X_test))\n",
    "precision = accuracy_score(test_predictions, y_test) * 100\n",
    "print(\"Accuracy with rbf svm: {0:.6f}\".format(precision))\n",
    "test_predictions = svc.predict(validation_pca_result)\n",
    "precision = accuracy_score(test_predictions, validation_label_ids) * 100\n",
    "print(\"Validation Accuracy with rbf svm: {0:.6f}\".format(precision))"
   ]
  },
  {
   "cell_type": "code",
   "execution_count": null,
   "metadata": {},
   "outputs": [],
   "source": []
  },
  {
   "cell_type": "markdown",
   "metadata": {},
   "source": [
    "\n",
    "\n",
    "Random Forest Classifier"
   ]
  },
  {
   "cell_type": "markdown",
   "metadata": {},
   "source": [
    "1 estimator"
   ]
  },
  {
   "cell_type": "code",
   "execution_count": null,
   "metadata": {},
   "outputs": [],
   "source": [
    "forest = RandomForestClassifier(n_estimators=1)\n",
    "forest = forest.fit(X_train, y_train)"
   ]
  },
  {
   "cell_type": "code",
   "execution_count": null,
   "metadata": {},
   "outputs": [],
   "source": [
    "test_predictions = forest.predict(X_test)"
   ]
  },
  {
   "cell_type": "code",
   "execution_count": null,
   "metadata": {},
   "outputs": [],
   "source": [
    "precision = accuracy_score(test_predictions, y_test) * 100\n",
    "print(\"Accuracy with RandomForest: {0:.6f}\".format(precision))"
   ]
  },
  {
   "cell_type": "code",
   "execution_count": null,
   "metadata": {},
   "outputs": [],
   "source": [
    "test_predictions = forest.predict(validation_pca_result)\n"
   ]
  },
  {
   "cell_type": "code",
   "execution_count": null,
   "metadata": {},
   "outputs": [],
   "source": [
    "precision = accuracy_score(test_predictions, validation_label_ids) * 100\n",
    "print(\"Validation Accuracy with Random Forest: {0:.6f}\".format(precision))"
   ]
  },
  {
   "cell_type": "markdown",
   "metadata": {},
   "source": [
    "5 estimator"
   ]
  },
  {
   "cell_type": "code",
   "execution_count": null,
   "metadata": {},
   "outputs": [],
   "source": [
    "forest = RandomForestClassifier(n_estimators=5)\n",
    "forest = forest.fit(X_train, y_train)"
   ]
  },
  {
   "cell_type": "code",
   "execution_count": null,
   "metadata": {},
   "outputs": [],
   "source": [
    "test_predictions = forest.predict(X_test)"
   ]
  },
  {
   "cell_type": "code",
   "execution_count": null,
   "metadata": {},
   "outputs": [],
   "source": [
    "precision = accuracy_score(test_predictions, y_test) * 100\n",
    "print(\"Accuracy with RandomForest: {0:.6f}\".format(precision))"
   ]
  },
  {
   "cell_type": "code",
   "execution_count": null,
   "metadata": {},
   "outputs": [],
   "source": [
    "test_predictions = forest.predict(validation_pca_result)\n",
    "\n"
   ]
  },
  {
   "cell_type": "code",
   "execution_count": null,
   "metadata": {},
   "outputs": [],
   "source": [
    "precision = accuracy_score(test_predictions, validation_label_ids) * 100\n",
    "print(\"Validation Accuracy with Random Forest: {0:.6f}\".format(precision))"
   ]
  },
  {
   "cell_type": "markdown",
   "metadata": {},
   "source": [
    "10 estimator"
   ]
  },
  {
   "cell_type": "code",
   "execution_count": null,
   "metadata": {},
   "outputs": [],
   "source": [
    "forest = RandomForestClassifier(n_estimators=10)\n",
    "forest = forest.fit(X_train, y_train)"
   ]
  },
  {
   "cell_type": "code",
   "execution_count": null,
   "metadata": {},
   "outputs": [],
   "source": [
    "test_predictions = forest.predict(X_test)\n",
    "print(np.array(test_predictions))"
   ]
  },
  {
   "cell_type": "code",
   "execution_count": null,
   "metadata": {},
   "outputs": [],
   "source": [
    "precision = accuracy_score(test_predictions, y_test) * 100\n",
    "print(\"Accuracy with RandomForest: {0:.6f}\".format(precision))"
   ]
  },
  {
   "cell_type": "code",
   "execution_count": null,
   "metadata": {},
   "outputs": [],
   "source": [
    "print(test_predictions)\n"
   ]
  },
  {
   "cell_type": "code",
   "execution_count": null,
   "metadata": {},
   "outputs": [],
   "source": [
    "test_predictions = forest.predict(validation_pca_result)"
   ]
  },
  {
   "cell_type": "code",
   "execution_count": null,
   "metadata": {},
   "outputs": [],
   "source": [
    "#precision = accuracy_score(test_predictions, validation_label_ids) * 100\n",
    "#print(\"Validation Accuracy with Random Forest: {0:.6f}\".format(precision))\n",
    "#print(confusion_matrix(test_predictions,validation_label_ids))\n",
    "#disp = plot_confusion_matrix(RandomForestClassifier, X_test, y_test,display_labels=labels,cmap=plt.cm.Blues,normalize=normalize)\n",
    "#disp.ax_.set_title(title)\n",
    "#print(title)\n",
    "#print(disp.confusion_matrix)\n",
    "#print(confusion_matrix(test_predictions,validation_label_ids))\n",
    "#print(classification_report(test_predictions,validation_label_ids))\n",
    "\n"
   ]
  },
  {
   "cell_type": "code",
   "execution_count": null,
   "metadata": {},
   "outputs": [],
   "source": [
    "forest = RandomForestClassifier(n_estimators=15)\n",
    "forest = forest.fit(X_train, y_train)\n",
    "test_predictions = forest.predict(X_test)"
   ]
  },
  {
   "cell_type": "code",
   "execution_count": null,
   "metadata": {},
   "outputs": [],
   "source": [
    "precision = accuracy_score(test_predictions, y_test) * 100\n",
    "print(\"Accuracy with RandomForest: {0:.6f}\".format(precision))"
   ]
  },
  {
   "cell_type": "code",
   "execution_count": null,
   "metadata": {},
   "outputs": [],
   "source": [
    "test_predictions = forest.predict(validation_pca_result)\n",
    "precision = accuracy_score(test_predictions, validation_label_ids) * 100\n",
    "print(\"Validation Accuracy with Random Forest: {0:.6f}\".format(precision))"
   ]
  },
  {
   "cell_type": "code",
   "execution_count": null,
   "metadata": {},
   "outputs": [],
   "source": [
    "forest = RandomForestClassifier(n_estimators=20)\n",
    "forest = forest.fit(X_train, y_train)\n",
    "test_predictions = forest.predict(X_test)"
   ]
  },
  {
   "cell_type": "code",
   "execution_count": null,
   "metadata": {},
   "outputs": [],
   "source": [
    "precision = accuracy_score(test_predictions, y_test) * 100\n",
    "print(\"Accuracy with RandomForest: {0:.6f}\".format(precision))"
   ]
  },
  {
   "cell_type": "code",
   "execution_count": null,
   "metadata": {},
   "outputs": [],
   "source": [
    "test_predictions = forest.predict(validation_pca_result)\n",
    "precision = accuracy_score(test_predictions, validation_label_ids) * 100\n",
    "print(\"Validation Accuracy with Random Forest: {0:.6f}\".format(precision))"
   ]
  },
  {
   "cell_type": "code",
   "execution_count": null,
   "metadata": {},
   "outputs": [],
   "source": [
    "forest = RandomForestClassifier(n_estimators=25)\n",
    "forest = forest.fit(X_train, y_train)\n",
    "test_predictions = forest.predict(X_test)"
   ]
  },
  {
   "cell_type": "code",
   "execution_count": null,
   "metadata": {},
   "outputs": [],
   "source": [
    "precision = accuracy_score(test_predictions, y_test) * 100\n",
    "print(\"Accuracy with RandomForest: {0:.6f}\".format(precision))"
   ]
  },
  {
   "cell_type": "code",
   "execution_count": null,
   "metadata": {},
   "outputs": [],
   "source": [
    "test_predictions = forest.predict(validation_pca_result)\n",
    "precision = accuracy_score(test_predictions, validation_label_ids) * 100\n",
    "print(\"Validation Accuracy with Random Forest: {0:.6f}\".format(precision))"
   ]
  },
  {
   "cell_type": "code",
   "execution_count": null,
   "metadata": {},
   "outputs": [],
   "source": [
    "forest = RandomForestClassifier(n_estimators=40)\n",
    "forest = forest.fit(X_train, y_train)\n",
    "test_predictions = forest.predict(X_test)"
   ]
  },
  {
   "cell_type": "code",
   "execution_count": null,
   "metadata": {},
   "outputs": [],
   "source": [
    "precision = accuracy_score(test_predictions, y_test) * 100\n",
    "print(\"Accuracy with RandomForest: {0:.6f}\".format(precision))"
   ]
  },
  {
   "cell_type": "code",
   "execution_count": null,
   "metadata": {},
   "outputs": [],
   "source": [
    "test_predictions = forest.predict(validation_pca_result)\n",
    "precision = accuracy_score(test_predictions, validation_label_ids) * 100\n",
    "print(\"Validation Accuracy with Random Forest: {0:.6f}\".format(precision))"
   ]
  },
  {
   "cell_type": "code",
   "execution_count": null,
   "metadata": {},
   "outputs": [],
   "source": [
    "forest = RandomForestClassifier(n_estimators=70)\n",
    "forest = forest.fit(X_train, y_train)\n",
    "test_predictions = forest.predict(X_test)"
   ]
  },
  {
   "cell_type": "code",
   "execution_count": null,
   "metadata": {},
   "outputs": [],
   "source": [
    "precision = accuracy_score(test_predictions, y_test) * 100\n",
    "print(\"Accuracy with RandomForest: {0:.6f}\".format(precision))"
   ]
  },
  {
   "cell_type": "code",
   "execution_count": null,
   "metadata": {},
   "outputs": [],
   "source": [
    "test_predictions = forest.predict(validation_pca_result)\n",
    "precision= accuracy_score(test_predictions, validation_label_ids) * 100\n",
    "print(\"Validation Accuracy with Random Forest: {0:.6f}\".format(precision))"
   ]
  },
  {
   "cell_type": "code",
   "execution_count": null,
   "metadata": {},
   "outputs": [],
   "source": [
    "forest = RandomForestClassifier(n_estimators=100)\n",
    "forest = forest.fit(X_train, y_train)\n",
    "test_predictions = forest.predict(X_test)"
   ]
  },
  {
   "cell_type": "code",
   "execution_count": null,
   "metadata": {},
   "outputs": [],
   "source": [
    "precision = accuracy_score(test_predictions, y_test) * 100\n",
    "print(\"Accuracy with RandomForest: {0:.6f}\".format(precision))"
   ]
  },
  {
   "cell_type": "code",
   "execution_count": null,
   "metadata": {},
   "outputs": [],
   "source": [
    "test_predictions = forest.predict(validation_pca_result)\n",
    "precision = accuracy_score(test_predictions, validation_label_ids) * 100\n",
    "print(\"Validation Accuracy with Random Forest: {0:.6f}\".format(precision))"
   ]
  },
  {
   "cell_type": "code",
   "execution_count": null,
   "metadata": {},
   "outputs": [],
   "source": [
    "forest = RandomForestClassifier(n_estimators=200)\n",
    "forest = forest.fit(X_train, y_train)\n",
    "test_predictions = forest.predict(X_test)"
   ]
  },
  {
   "cell_type": "code",
   "execution_count": null,
   "metadata": {},
   "outputs": [],
   "source": [
    "precision = accuracy_score(test_predictions, y_test) * 100\n",
    "print(\"Accuracy with RandomForest: {0:.6f}\".format(precision))"
   ]
  },
  {
   "cell_type": "code",
   "execution_count": null,
   "metadata": {},
   "outputs": [],
   "source": [
    "test_predictions = forest.predict(validation_pca_result)\n",
    "precision = accuracy_score(test_predictions, validation_label_ids) * 100\n",
    "print(\"Validation Accuracy with Random Forest: {0:.6f}\".format(precision))"
   ]
  },
  {
   "cell_type": "code",
   "execution_count": null,
   "metadata": {},
   "outputs": [],
   "source": [
    "forest = RandomForestClassifier(n_estimators=300)\n",
    "forest = forest.fit(X_train, y_train)\n",
    "test_predictions = forest.predict(X_test)"
   ]
  },
  {
   "cell_type": "code",
   "execution_count": null,
   "metadata": {},
   "outputs": [],
   "source": [
    "precision = accuracy_score(test_predictions, y_test) * 100\n",
    "print(\"Accuracy with RandomForest: {0:.6f}\".format(precision))"
   ]
  },
  {
   "cell_type": "code",
   "execution_count": null,
   "metadata": {},
   "outputs": [],
   "source": [
    "test_predictions = forest.predict(validation_pca_result)\n",
    "precision = accuracy_score(test_predictions, validation_label_ids) * 100\n",
    "print(\"Validation Accuracy with Random Forest: {0:.6f}\".format(precision))"
   ]
  },
  {
   "cell_type": "code",
   "execution_count": null,
   "metadata": {},
   "outputs": [],
   "source": [
    "forest = RandomForestClassifier(n_estimators=400)\n",
    "forest = forest.fit(X_train, y_train)\n",
    "test_predictions = forest.predict(X_test)"
   ]
  },
  {
   "cell_type": "code",
   "execution_count": null,
   "metadata": {},
   "outputs": [],
   "source": [
    "precision = accuracy_score(test_predictions, y_test) * 100\n",
    "print(\"Accuracy with RandomForest: {0:.6f}\".format(precision))"
   ]
  },
  {
   "cell_type": "code",
   "execution_count": null,
   "metadata": {},
   "outputs": [],
   "source": [
    "test_predictions = forest.predict(validation_pca_result)\n",
    "precision = accuracy_score(test_predictions, validation_label_ids) * 100\n",
    "print(\"Validation Accuracy with Random Forest: {0:.6f}\".format(precision))"
   ]
  },
  {
   "cell_type": "code",
   "execution_count": null,
   "metadata": {},
   "outputs": [],
   "source": [
    "forest = RandomForestClassifier(n_estimators=700)\n",
    "forest = forest.fit(X_train, y_train)\n",
    "test_predictions = forest.predict(X_test)"
   ]
  },
  {
   "cell_type": "code",
   "execution_count": null,
   "metadata": {},
   "outputs": [],
   "source": [
    "precision = accuracy_score(test_predictions, y_test) * 100\n",
    "print(\"Accuracy with RandomForest: {0:.6f}\".format(precision))"
   ]
  },
  {
   "cell_type": "code",
   "execution_count": null,
   "metadata": {},
   "outputs": [],
   "source": [
    "test_predictions = forest.predict(validation_pca_result)\n",
    "precision = accuracy_score(test_predictions, validation_label_ids) * 100\n",
    "print(\"Validation Accuracy with Random Forest: {0:.6f}\".format(precision))"
   ]
  },
  {
   "cell_type": "code",
   "execution_count": null,
   "metadata": {},
   "outputs": [],
   "source": [
    "forest = RandomForestClassifier(n_estimators=1000)\n",
    "forest = forest.fit(X_train, y_train)\n",
    "test_predictions = forest.predict(X_test)"
   ]
  },
  {
   "cell_type": "code",
   "execution_count": null,
   "metadata": {},
   "outputs": [],
   "source": [
    "precision = accuracy_score(test_predictions, y_test) * 100\n",
    "print(\"Accuracy with RandomForest: {0:.6f}\".format(precision))"
   ]
  },
  {
   "cell_type": "code",
   "execution_count": null,
   "metadata": {},
   "outputs": [],
   "source": [
    "test_predictions = forest.predict(validation_pca_result)\n",
    "precision = accuracy_score(test_predictions, validation_label_ids) * 100\n",
    "print(\"Validation Accuracy with Random Forest: {0:.6f}\".format(precision))"
   ]
  },
  {
   "cell_type": "code",
   "execution_count": null,
   "metadata": {},
   "outputs": [],
   "source": [
    "forest = RandomForestClassifier(n_estimators=2000)\n",
    "forest = forest.fit(X_train, y_train)\n",
    "test_predictions = forest.predict(X_test)"
   ]
  },
  {
   "cell_type": "code",
   "execution_count": null,
   "metadata": {},
   "outputs": [],
   "source": [
    "precision = accuracy_score(test_predictions, y_test) * 100\n",
    "print(\"Accuracy with RandomForest: {0:.6f}\".format(precision))"
   ]
  },
  {
   "cell_type": "code",
   "execution_count": null,
   "metadata": {},
   "outputs": [],
   "source": [
    "test_predictions = forest.predict(validation_pca_result)\n",
    "precision = accuracy_score(test_predictions, validation_label_ids) * 100\n",
    "print(\"Validation Accuracy with Random Forest: {0:.6f}\".format(precision))"
   ]
  },
  {
   "cell_type": "code",
   "execution_count": null,
   "metadata": {},
   "outputs": [],
   "source": [
    "#svm_clf = svm.SVC()\n",
    "#svm_clf = svm_clf.fit(X_train, y_train) "
   ]
  },
  {
   "cell_type": "code",
   "execution_count": null,
   "metadata": {},
   "outputs": [],
   "source": [
    "#test_predictions = svm_clf.predict(X_test)\n"
   ]
  },
  {
   "cell_type": "code",
   "execution_count": null,
   "metadata": {},
   "outputs": [],
   "source": [
    "#precision = accuracy_score(test_predictions, y_test) * 100\n",
    "#print(\"Accuracy with SVM: {0:.6f}\".format(precision))"
   ]
  },
  {
   "cell_type": "code",
   "execution_count": null,
   "metadata": {},
   "outputs": [],
   "source": [
    "#test_predictions = svm_clf.predict(validation_pca_result)"
   ]
  },
  {
   "cell_type": "raw",
   "metadata": {},
   "source": [
    "Majority Voting"
   ]
  },
  {
   "cell_type": "code",
   "execution_count": null,
   "metadata": {},
   "outputs": [],
   "source": [
    "V1= VotingClassifier(estimators=[('knn', knn), ('svm', svc), ('rf', forest)], voting='soft')\n",
    "V1.fit(X_train,y_train)\n",
    "test_predictions = V1.predict(X_test)\n",
    "#print(V1.predict(X_test))\n",
    "precision = accuracy_score(test_predictions, y_test) * 100\n",
    "print(\"Accuracy with Majority Voting: {0:.6f}\".format(precision))\n",
    "test_predictions = V1.predict(validation_pca_result)\n",
    "precision = accuracy_score(test_predictions, validation_label_ids) * 100\n",
    "print(\"Validation Accuracy with Majority Voting: {0:.6f}\".format(precision))\n"
   ]
  },
  {
   "cell_type": "code",
   "execution_count": null,
   "metadata": {},
   "outputs": [],
   "source": [
    "V1= VotingClassifier(estimators=[('knn', knn), ('svm', svc), ('rf', forest)], voting='hard')\n",
    "V1.fit(X_train,y_train)\n",
    "test_predictions = V1.predict(X_test)\n",
    "print(V1.predict(X_test))\n",
    "precision = accuracy_score(test_predictions, y_test) * 100\n",
    "print(\"Accuracy with Majority Voting 2: {0:.6f}\".format(precision))\n",
    "test_predictions = V1.predict(validation_pca_result)\n",
    "precision = accuracy_score(test_predictions, validation_label_ids) * 100\n",
    "print(\"Validation Accuracy with Majority Voting 2: {0:.6f}\".format(precision))"
   ]
  },
  {
   "cell_type": "code",
   "execution_count": null,
   "metadata": {},
   "outputs": [],
   "source": [
    "V1= VotingClassifier(estimators=[('knn', knn), ('svm', svc), ('rf', forest)], voting='soft', weights=[1,2,1])\n",
    "V1.fit(X_train,y_train)\n",
    "test_predictions = V1.predict(X_test)\n",
    "print(V1.predict(X_test))\n",
    "precision = accuracy_score(test_predictions, y_test) * 100\n",
    "print(\"Accuracy with Majority Voting: {0:.6f}\".format(precision))\n",
    "test_predictions = V1.predict(validation_pca_result)\n",
    "precision = accuracy_score(test_predictions, validation_label_ids) * 100\n",
    "print(\"Validation Accuracy with Majority Voting: {0:.6f}\".format(precision))"
   ]
  },
  {
   "cell_type": "markdown",
   "metadata": {},
   "source": [
    "\n",
    "\n"
   ]
  },
  {
   "cell_type": "code",
   "execution_count": null,
   "metadata": {},
   "outputs": [],
   "source": [
    "V1= VotingClassifier(estimators=[('knn', knn), ('svm', svc), ('rf', forest)], voting='hard', weights=[1,2,1])\n",
    "V1.fit(X_train,y_train)\n",
    "test_predictions = V1.predict(X_test)\n",
    "print(V1.predict(X_test))\n",
    "precision = accuracy_score(test_predictions, y_test) * 100\n",
    "print(\"Accuracy with Majority Voting 4: {0:.6f}\".format(precision))\n",
    "test_predictions = V1.predict(validation_pca_result)\n",
    "precision = accuracy_score(test_predictions, validation_label_ids) * 100\n",
    "print(\"Validation Accuracy with Majority Voting 4: {0:.6f}\".format(precision))"
   ]
  },
  {
   "cell_type": "code",
   "execution_count": null,
   "metadata": {},
   "outputs": [],
   "source": []
  },
  {
   "cell_type": "code",
   "execution_count": null,
   "metadata": {},
   "outputs": [],
   "source": []
  }
 ],
 "metadata": {
  "kernelspec": {
   "display_name": "Python 3",
   "language": "python",
   "name": "python3"
  },
  "language_info": {
   "codemirror_mode": {
    "name": "ipython",
    "version": 3
   },
   "file_extension": ".py",
   "mimetype": "text/x-python",
   "name": "python",
   "nbconvert_exporter": "python",
   "pygments_lexer": "ipython3",
   "version": "3.7.3"
  }
 },
 "nbformat": 4,
 "nbformat_minor": 4
}
